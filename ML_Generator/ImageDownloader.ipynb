{
 "cells": [
  {
   "cell_type": "code",
   "execution_count": 16,
   "metadata": {},
   "outputs": [],
   "source": [
    "from urllib.request import urlretrieve\n",
    "from urllib.parse import quote_plus\n",
    "from bs4 import BeautifulSoup\n",
    "from selenium import webdriver\n",
    "from dataset import MaskDataset, get_img_files"
   ]
  },
  {
   "cell_type": "code",
   "execution_count": 14,
   "metadata": {},
   "outputs": [
    {
     "name": "stdout",
     "output_type": "stream",
     "text": [
      "검색어 입력: Foot\n"
     ]
    }
   ],
   "source": [
    "search = input('검색어 입력: ')\n",
    "url = f'https://www.google.com/search?q={quote_plus(search)}&tbm=isch&ved=2ahUKEwjSzeq12qjqAhUM5JQKHZkNDBgQ2-cCegQIABAA&oq=%EB%B0%9C&gs_lcp=CgNpbWcQAzICCAAyAggAMgIIADICCAAyAggAMgIIADICCAAyAggAMgIIADICCAA6BQgAELEDUKIFWKAKYKIOaAFwAHgAgAFziAG8A5IBAzAuNJgBAKABAaoBC2d3cy13aXotaW1nsAEA&sclient=img&ei=KsD6XtKQJ4zI0wSZm7DAAQ&bih=1344&biw=1261'\n",
    "\n",
    "driver = webdriver.Chrome(executable_path='/Users/yang/bin/chromedriver')\n",
    "driver.get(url)\n",
    "for i in range(500):\n",
    "    driver.execute_script(\"window.scrollBy(0,10000)\")\n",
    "\n",
    "html = driver.page_source\n",
    "soup = BeautifulSoup(html)\n",
    "img = soup.select('.rg_i.Q4LuWd')\n",
    "imgurl = []\n",
    "n = 1\n",
    "\n",
    "for i  in img:\n",
    "    try:\n",
    "        imgurl.append(i.attrs[\"src\"])\n",
    "    except KeyError:\n",
    "        imgurl.append(i.attrs[\"data-src\"])\n",
    "        \n",
    "for i in imgurl:\n",
    "    urlretrieve(i, \"data/raw/images/\"+ search + str(n) + \".jpg\")\n",
    "    n += 1\n",
    "    \n",
    "driver.close()"
   ]
  },
  {
   "cell_type": "code",
   "execution_count": 17,
   "metadata": {},
   "outputs": [
    {
     "name": "stdout",
     "output_type": "stream",
     "text": [
      "get_img_files\n"
     ]
    }
   ],
   "source": [
    "image_files = get_img_files()"
   ]
  },
  {
   "cell_type": "code",
   "execution_count": 18,
   "metadata": {},
   "outputs": [
    {
     "name": "stdout",
     "output_type": "stream",
     "text": [
      "['data/raw/images/Frame1.jpg' 'data/raw/images/Frame10.jpg'\n",
      " 'data/raw/images/Frame100.jpg' 'data/raw/images/Frame101.jpg'\n",
      " 'data/raw/images/Frame102.jpg' 'data/raw/images/Frame103.jpg'\n",
      " 'data/raw/images/Frame104.jpg' 'data/raw/images/Frame105.jpg'\n",
      " 'data/raw/images/Frame106.jpg' 'data/raw/images/Frame107.jpg'\n",
      " 'data/raw/images/Frame108.jpg' 'data/raw/images/Frame109.jpg'\n",
      " 'data/raw/images/Frame11.jpg' 'data/raw/images/Frame110.jpg'\n",
      " 'data/raw/images/Frame111.jpg' 'data/raw/images/Frame112.jpg'\n",
      " 'data/raw/images/Frame113.jpg' 'data/raw/images/Frame114.jpg'\n",
      " 'data/raw/images/Frame115.jpg' 'data/raw/images/Frame116.jpg'\n",
      " 'data/raw/images/Frame117.jpg' 'data/raw/images/Frame118.jpg'\n",
      " 'data/raw/images/Frame119.jpg' 'data/raw/images/Frame12.jpg'\n",
      " 'data/raw/images/Frame120.jpg' 'data/raw/images/Frame121.jpg'\n",
      " 'data/raw/images/Frame122.jpg' 'data/raw/images/Frame123.jpg'\n",
      " 'data/raw/images/Frame124.jpg' 'data/raw/images/Frame125.jpg'\n",
      " 'data/raw/images/Frame126.jpg' 'data/raw/images/Frame127.jpg'\n",
      " 'data/raw/images/Frame128.jpg' 'data/raw/images/Frame129.jpg'\n",
      " 'data/raw/images/Frame13.jpg' 'data/raw/images/Frame130.jpg'\n",
      " 'data/raw/images/Frame131.jpg' 'data/raw/images/Frame132.jpg'\n",
      " 'data/raw/images/Frame133.jpg' 'data/raw/images/Frame134.jpg'\n",
      " 'data/raw/images/Frame135.jpg' 'data/raw/images/Frame136.jpg'\n",
      " 'data/raw/images/Frame137.jpg' 'data/raw/images/Frame138.jpg'\n",
      " 'data/raw/images/Frame139.jpg' 'data/raw/images/Frame14.jpg'\n",
      " 'data/raw/images/Frame140.jpg' 'data/raw/images/Frame141.jpg'\n",
      " 'data/raw/images/Frame142.jpg' 'data/raw/images/Frame143.jpg'\n",
      " 'data/raw/images/Frame144.jpg' 'data/raw/images/Frame145.jpg'\n",
      " 'data/raw/images/Frame146.jpg' 'data/raw/images/Frame147.jpg'\n",
      " 'data/raw/images/Frame148.jpg' 'data/raw/images/Frame149.jpg'\n",
      " 'data/raw/images/Frame15.jpg' 'data/raw/images/Frame150.jpg'\n",
      " 'data/raw/images/Frame151.jpg' 'data/raw/images/Frame152.jpg'\n",
      " 'data/raw/images/Frame153.jpg' 'data/raw/images/Frame154.jpg'\n",
      " 'data/raw/images/Frame155.jpg' 'data/raw/images/Frame156.jpg'\n",
      " 'data/raw/images/Frame157.jpg' 'data/raw/images/Frame158.jpg'\n",
      " 'data/raw/images/Frame159.jpg' 'data/raw/images/Frame16.jpg'\n",
      " 'data/raw/images/Frame160.jpg' 'data/raw/images/Frame161.jpg'\n",
      " 'data/raw/images/Frame162.jpg' 'data/raw/images/Frame163.jpg'\n",
      " 'data/raw/images/Frame164.jpg' 'data/raw/images/Frame165.jpg'\n",
      " 'data/raw/images/Frame166.jpg' 'data/raw/images/Frame167.jpg'\n",
      " 'data/raw/images/Frame168.jpg' 'data/raw/images/Frame169.jpg'\n",
      " 'data/raw/images/Frame17.jpg' 'data/raw/images/Frame170.jpg'\n",
      " 'data/raw/images/Frame171.jpg' 'data/raw/images/Frame172.jpg'\n",
      " 'data/raw/images/Frame173.jpg' 'data/raw/images/Frame174.jpg'\n",
      " 'data/raw/images/Frame175.jpg' 'data/raw/images/Frame176.jpg'\n",
      " 'data/raw/images/Frame177.jpg' 'data/raw/images/Frame178.jpg'\n",
      " 'data/raw/images/Frame179.jpg' 'data/raw/images/Frame18.jpg'\n",
      " 'data/raw/images/Frame180.jpg' 'data/raw/images/Frame181.jpg'\n",
      " 'data/raw/images/Frame182.jpg' 'data/raw/images/Frame183.jpg'\n",
      " 'data/raw/images/Frame184.jpg' 'data/raw/images/Frame185.jpg'\n",
      " 'data/raw/images/Frame186.jpg' 'data/raw/images/Frame187.jpg'\n",
      " 'data/raw/images/Frame188.jpg' 'data/raw/images/Frame189.jpg'\n",
      " 'data/raw/images/Frame19.jpg' 'data/raw/images/Frame190.jpg'\n",
      " 'data/raw/images/Frame191.jpg' 'data/raw/images/Frame192.jpg'\n",
      " 'data/raw/images/Frame193.jpg' 'data/raw/images/Frame194.jpg'\n",
      " 'data/raw/images/Frame195.jpg' 'data/raw/images/Frame196.jpg'\n",
      " 'data/raw/images/Frame197.jpg' 'data/raw/images/Frame198.jpg'\n",
      " 'data/raw/images/Frame199.jpg' 'data/raw/images/Frame2.jpg'\n",
      " 'data/raw/images/Frame20.jpg' 'data/raw/images/Frame200.jpg'\n",
      " 'data/raw/images/Frame201.jpg' 'data/raw/images/Frame202.jpg'\n",
      " 'data/raw/images/Frame203.jpg' 'data/raw/images/Frame204.jpg'\n",
      " 'data/raw/images/Frame205.jpg' 'data/raw/images/Frame206.jpg'\n",
      " 'data/raw/images/Frame207.jpg' 'data/raw/images/Frame208.jpg'\n",
      " 'data/raw/images/Frame209.jpg' 'data/raw/images/Frame21.jpg'\n",
      " 'data/raw/images/Frame210.jpg' 'data/raw/images/Frame211.jpg'\n",
      " 'data/raw/images/Frame212.jpg' 'data/raw/images/Frame213.jpg'\n",
      " 'data/raw/images/Frame214.jpg' 'data/raw/images/Frame215.jpg'\n",
      " 'data/raw/images/Frame216.jpg' 'data/raw/images/Frame217.jpg'\n",
      " 'data/raw/images/Frame218.jpg' 'data/raw/images/Frame219.jpg'\n",
      " 'data/raw/images/Frame22.jpg' 'data/raw/images/Frame220.jpg'\n",
      " 'data/raw/images/Frame221.jpg' 'data/raw/images/Frame222.jpg'\n",
      " 'data/raw/images/Frame223.jpg' 'data/raw/images/Frame224.jpg'\n",
      " 'data/raw/images/Frame225.jpg' 'data/raw/images/Frame226.jpg'\n",
      " 'data/raw/images/Frame227.jpg' 'data/raw/images/Frame228.jpg'\n",
      " 'data/raw/images/Frame229.jpg' 'data/raw/images/Frame23.jpg'\n",
      " 'data/raw/images/Frame230.jpg' 'data/raw/images/Frame231.jpg'\n",
      " 'data/raw/images/Frame232.jpg' 'data/raw/images/Frame233.jpg'\n",
      " 'data/raw/images/Frame234.jpg' 'data/raw/images/Frame235.jpg'\n",
      " 'data/raw/images/Frame236.jpg' 'data/raw/images/Frame237.jpg'\n",
      " 'data/raw/images/Frame238.jpg' 'data/raw/images/Frame239.jpg'\n",
      " 'data/raw/images/Frame24.jpg' 'data/raw/images/Frame240.jpg'\n",
      " 'data/raw/images/Frame241.jpg' 'data/raw/images/Frame242.jpg'\n",
      " 'data/raw/images/Frame243.jpg' 'data/raw/images/Frame244.jpg'\n",
      " 'data/raw/images/Frame25.jpg' 'data/raw/images/Frame26.jpg'\n",
      " 'data/raw/images/Frame27.jpg' 'data/raw/images/Frame28.jpg'\n",
      " 'data/raw/images/Frame29.jpg' 'data/raw/images/Frame3.jpg'\n",
      " 'data/raw/images/Frame30.jpg' 'data/raw/images/Frame31.jpg'\n",
      " 'data/raw/images/Frame32.jpg' 'data/raw/images/Frame33.jpg'\n",
      " 'data/raw/images/Frame34.jpg' 'data/raw/images/Frame35.jpg'\n",
      " 'data/raw/images/Frame36.jpg' 'data/raw/images/Frame37.jpg'\n",
      " 'data/raw/images/Frame38.jpg' 'data/raw/images/Frame39.jpg'\n",
      " 'data/raw/images/Frame4.jpg' 'data/raw/images/Frame40.jpg'\n",
      " 'data/raw/images/Frame41.jpg' 'data/raw/images/Frame42.jpg'\n",
      " 'data/raw/images/Frame43.jpg' 'data/raw/images/Frame44.jpg'\n",
      " 'data/raw/images/Frame45.jpg' 'data/raw/images/Frame46.jpg'\n",
      " 'data/raw/images/Frame47.jpg' 'data/raw/images/Frame48.jpg'\n",
      " 'data/raw/images/Frame49.jpg' 'data/raw/images/Frame5.jpg'\n",
      " 'data/raw/images/Frame50.jpg' 'data/raw/images/Frame51.jpg'\n",
      " 'data/raw/images/Frame52.jpg' 'data/raw/images/Frame53.jpg'\n",
      " 'data/raw/images/Frame54.jpg' 'data/raw/images/Frame55.jpg'\n",
      " 'data/raw/images/Frame56.jpg' 'data/raw/images/Frame57.jpg'\n",
      " 'data/raw/images/Frame58.jpg' 'data/raw/images/Frame59.jpg'\n",
      " 'data/raw/images/Frame6.jpg' 'data/raw/images/Frame60.jpg'\n",
      " 'data/raw/images/Frame61.jpg' 'data/raw/images/Frame62.jpg'\n",
      " 'data/raw/images/Frame63.jpg' 'data/raw/images/Frame64.jpg'\n",
      " 'data/raw/images/Frame65.jpg' 'data/raw/images/Frame66.jpg'\n",
      " 'data/raw/images/Frame67.jpg' 'data/raw/images/Frame68.jpg'\n",
      " 'data/raw/images/Frame69.jpg' 'data/raw/images/Frame7.jpg'\n",
      " 'data/raw/images/Frame70.jpg' 'data/raw/images/Frame71.jpg'\n",
      " 'data/raw/images/Frame72.jpg' 'data/raw/images/Frame73.jpg'\n",
      " 'data/raw/images/Frame74.jpg' 'data/raw/images/Frame75.jpg'\n",
      " 'data/raw/images/Frame76.jpg' 'data/raw/images/Frame77.jpg'\n",
      " 'data/raw/images/Frame78.jpg' 'data/raw/images/Frame79.jpg'\n",
      " 'data/raw/images/Frame8.jpg' 'data/raw/images/Frame80.jpg'\n",
      " 'data/raw/images/Frame81.jpg' 'data/raw/images/Frame82.jpg'\n",
      " 'data/raw/images/Frame83.jpg' 'data/raw/images/Frame84.jpg'\n",
      " 'data/raw/images/Frame85.jpg' 'data/raw/images/Frame86.jpg'\n",
      " 'data/raw/images/Frame87.jpg' 'data/raw/images/Frame88.jpg'\n",
      " 'data/raw/images/Frame89.jpg' 'data/raw/images/Frame9.jpg'\n",
      " 'data/raw/images/Frame90.jpg' 'data/raw/images/Frame91.jpg'\n",
      " 'data/raw/images/Frame92.jpg' 'data/raw/images/Frame93.jpg'\n",
      " 'data/raw/images/Frame94.jpg' 'data/raw/images/Frame95.jpg'\n",
      " 'data/raw/images/Frame96.jpg' 'data/raw/images/Frame97.jpg'\n",
      " 'data/raw/images/Frame98.jpg' 'data/raw/images/Frame99.jpg']\n"
     ]
    }
   ],
   "source": [
    "print(image_files)"
   ]
  },
  {
   "cell_type": "code",
   "execution_count": null,
   "metadata": {},
   "outputs": [],
   "source": []
  }
 ],
 "metadata": {
  "kernelspec": {
   "display_name": "Python 3",
   "language": "python",
   "name": "python3"
  },
  "language_info": {
   "codemirror_mode": {
    "name": "ipython",
    "version": 3
   },
   "file_extension": ".py",
   "mimetype": "text/x-python",
   "name": "python",
   "nbconvert_exporter": "python",
   "pygments_lexer": "ipython3",
   "version": "3.7.6"
  }
 },
 "nbformat": 4,
 "nbformat_minor": 4
}
